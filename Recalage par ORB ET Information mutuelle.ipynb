{
 "cells": [
  {
   "cell_type": "markdown",
   "metadata": {},
   "source": [
    "<center> <h1> Projet Méthodologique : Comparaison des methodes de récalage </h1></center>\n",
    "\n",
    "\n",
    "\n",
    "."
   ]
  },
  {
   "cell_type": "markdown",
   "metadata": {},
   "source": [
    "# Importation des librairies"
   ]
  },
  {
   "cell_type": "code",
   "execution_count": 1,
   "metadata": {},
   "outputs": [
    {
     "name": "stderr",
     "output_type": "stream",
     "text": [
      "C:\\ProgramData\\Anaconda3\\lib\\site-packages\\dipy\\viz\\__init__.py:31: UserWarning: You do not have FURY installed. Some visualization functions might not work for you. For installation instructions, please visit: https://fury.gl/\n",
      "  warnings.warn(\n"
     ]
    }
   ],
   "source": [
    "from __future__ import print_function \n",
    "from __future__ import division  \n",
    "import numpy as np\n",
    "import math\n",
    "from statistics import mean \n",
    "import matplotlib.pyplot as plt\n",
    "import os\n",
    "import cv2 as cv \n",
    "import sys\n",
    "import cv2\n",
    "from PIL import Image\n",
    "from numpy import asarray\n",
    "#from skimage.measure import structural_similarity as ssim\n",
    "from skimage import measure\n",
    "from skimage.metrics import structural_similarity as ssim\n",
    "import time\n",
    "import tarfile\n",
    "import xml.dom.minidom as md\n",
    "import skimage as ski # Scikit-Image : Image processing\n",
    "import skimage.feature\n",
    "import skimage.morphology\n",
    "from skimage import img_as_float\n",
    "from skimage.metrics import mean_squared_error as mse  #from skimage.measure import compare_mse as mse\n",
    "\n",
    "import scipy.spatial.distance as ssd # Distance metric\n",
    "from sklearn.cluster import KMeans\n",
    "# For Coherent Point Drift (CPD) registration :\n",
    "import pycpd\n",
    "from pycpd import rigid_registration # CPD\n",
    "from functools import partial\n",
    "from socket import socket\n",
    "# For mutual information registration :\n",
    "from dipy.align.imaffine import AffineRegistration\n",
    "from dipy.align.transforms import (RigidTransform2D, AffineTransform2D)\n",
    "from dipy.viz import regtools\n",
    "from dipy.align.imaffine import (transform_centers_of_mass,\n",
    "                                 AffineMap,\n",
    "                                 MutualInformationMetric,\n",
    "                                 AffineRegistration)\n",
    "\n",
    "from pycpd import RigidRegistration\n",
    "from PIL import Image as im \n",
    "#! pip install scikit-image\n",
    "#! pip install dipy\n",
    "#! pip install scipy\n",
    "#! pip install pycpd\n",
    "#! pip install skimage \n",
    "#! pip install cv2\n",
    "#! pip install scikitlearn"
   ]
  },
  {
   "cell_type": "markdown",
   "metadata": {},
   "source": [
    "# I. Organisation des images\n",
    "\n",
    "    On repartit les images de chaque feuille dans un dossier afin de faciliter le recalage et l'enregistrement de l'image         récalée."
   ]
  },
  {
   "cell_type": "code",
   "execution_count": 148,
   "metadata": {},
   "outputs": [],
   "source": [
    "n=178\n",
    "for i in range(1,n+1):\n",
    "    os.chdir (r'C:\\Users\\Adama\\Documents\\2020-07-23 Croiss lésion 7dpi-ROI')\n",
    "    image1=cv2.imread('image1 ({}).jpg'.format(i))\n",
    "    \n",
    "    os.chdir (r'C:\\Users\\Adama\\Documents\\2020-07-27 Croiss lésions 11dpi-ROI')\n",
    "    image2=cv2.imread('image2 ({}).jpg'.format(i))\n",
    "    \n",
    "    os.chdir (r'C:\\Users\\Adama\\Documents\\2020-07-29 Croiss lésions 13dpi-ROI')\n",
    "    image3=cv2.imread('image3 ({}).jpg'.format(i))\n",
    "    \n",
    "    #Enregistrement des images\n",
    "    os.chdir (r'C:\\Users\\Adama\\Desktop\\Images_Plantes\\feuille ({})'.format(i))\n",
    "    cv2.imwrite(\"Image (1).jpg\",image1)\n",
    "    cv2.imwrite(\"Image (2).jpg\",image2)\n",
    "    cv2.imwrite(\"Image (3).jpg\",image3)"
   ]
  },
  {
   "cell_type": "markdown",
   "metadata": {},
   "source": [
    "# II. Fonctions utiles"
   ]
  },
  {
   "cell_type": "markdown",
   "metadata": {},
   "source": [
    "## 1. Fonctions pour la comparaison des méthodes \n",
    "\n",
    "On appelle la fonction RMSE (Root Mean Square Error) et SSIM (Structural Similarity Index) dans une seule fonction qu'on utilisera pour comparer les performances des 3 methodes de récalage"
   ]
  },
  {
   "cell_type": "code",
   "execution_count": 2,
   "metadata": {},
   "outputs": [],
   "source": [
    "def comparer_images(imageA, imageB):\n",
    "    m = mse(imageA, imageB)\n",
    "    s = ssim(imageA, imageB,multichannel=True,gaussian_weights=True)\n",
    "    return m,s"
   ]
  },
  {
   "cell_type": "markdown",
   "metadata": {},
   "source": [
    "## 2. Les Fonctions de recalage"
   ]
  },
  {
   "cell_type": "markdown",
   "metadata": {},
   "source": [
    "### 2.1 Recalage par la methode ORB"
   ]
  },
  {
   "cell_type": "code",
   "execution_count": 9,
   "metadata": {},
   "outputs": [],
   "source": [
    "MAX = 700 #Maximum de caracteristiques de l'image\n",
    "GOOD_MATCH_PERCENT = 0.50\n",
    "\n",
    "def recalageORB(im1, im2):\n",
    "\n",
    "    # Conversion en gris\n",
    "    im1Gray = cv2.cvtColor(im1, cv2.COLOR_BGR2GRAY)\n",
    "    im2Gray = cv2.cvtColor(im2, cv2.COLOR_BGR2GRAY)\n",
    "  \n",
    "    # Detection des caracteristiques ORB et calcul des descripteurs\n",
    "    orb = cv2.ORB_create(MAX)\n",
    "    keypoints1, descriptors1 = orb.detectAndCompute(im1Gray, None)\n",
    "    keypoints2, descriptors2 = orb.detectAndCompute(im2Gray, None)\n",
    "  \n",
    "    # Correspondances des caracteristiques\n",
    "    matcher = cv2.DescriptorMatcher_create(cv2.DESCRIPTOR_MATCHER_BRUTEFORCE_HAMMING)\n",
    "    matches = matcher.match(descriptors1, descriptors2, None)\n",
    "  \n",
    "     # Ordonner les caracteristiques par score\n",
    "    matches.sort(key=lambda x: x.distance, reverse=False)\n",
    "\n",
    "    # Effacer les mauvaises correspondances\n",
    "    numGoodMatches = int(len(matches) * GOOD_MATCH_PERCENT)\n",
    "    matches = matches[:numGoodMatches]\n",
    "\n",
    "    # Draw top matches\n",
    "    imMatches = cv2.drawMatches(im1, keypoints1, im2, keypoints2, matches, None)\n",
    "    cv2.imwrite(\"correspondanceI_J.jpg\", imMatches)\n",
    "  \n",
    "    # Extraction des bonnes correspondances\n",
    "    points1 = np.zeros((len(matches), 2), dtype=np.float32)\n",
    "    points2 = np.zeros((len(matches), 2), dtype=np.float32)\n",
    "\n",
    "    for i, match in enumerate(matches):\n",
    "        points1[i, :] = keypoints1[match.queryIdx].pt\n",
    "        points2[i, :] = keypoints2[match.trainIdx].pt\n",
    "  \n",
    "     #homographie\n",
    "    h, mask = cv2.findHomography(points1, points2, cv2.RANSAC)\n",
    "    height, width, channels = im2.shape\n",
    "    imagerecale = cv2.warpPerspective(im1, h, (width, height))\n",
    "  \n",
    "    return imagerecale, h\n"
   ]
  },
  {
   "cell_type": "markdown",
   "metadata": {},
   "source": [
    "### 2.2 Recalage par la methode de l'information mutuelle\n",
    "\n",
    "Dans la théorie, l'information mutuelle est définie comme suit :\n",
    "\n",
    "$$\n",
    "I(X;Y) = \\sum_{y \\in Y} \\sum_{x \\in X}\n",
    "                 p(x,y) \\log{ \\left(\\frac{p(x,y)}{p(x)\\,p(y)}\n",
    "                              \\right) }\n",
    "$$\n",
    "\n",
    "Ici $X$ et $Y$ répresentent nos deux images."
   ]
  },
  {
   "cell_type": "code",
   "execution_count": 10,
   "metadata": {},
   "outputs": [],
   "source": [
    "def MutualInfo(image1,image2) :\n",
    "    \"\"\"\"\"\"\"\"\"\"\"\"\"\"\"\"\"\"\"\"\"\"\"\"\"\"\"\"\"\"\"\"\"\"\"\"\"\"\"\"\"\"\"\"\"\"\"\"\"\"\"\"\"\"\"\"\"\"\"\"\"\"\"\"\"\"\"\"\"\"\"\"\"\"\"\"\"\"\"\"\"\"\"\"\"\"\"\"\"\"\"\"\"\"\"\"\"\"\"\"\"\n",
    "    MI : Mutual Information method for affine registration and recalibration \\n\n",
    "    img1_o = Original first Image or Visible Image (in grayscale) \\n\n",
    "    img2_o = Original second Image or Fluorescent Image (in grayscale) \\n\n",
    "    Multimodal = logical, True, if the images are from different modalities \\n\n",
    "    Multistart = logical, True, if you want to test several initial conditions \\n\n",
    "    Sym = logical, True if you want to test symmetry with additional initial conditions \\n\n",
    "    Affine = if True, performs an affine transformation after the rigid one (with scaling and skew) \\n\n",
    "    border = size of the border to add to avoid bad cropping \\n\n",
    "    \"\"\"\"\"\"\"\"\"\"\"\"\"\"\"\"\"\"\"\"\"\"\"\"\"\"\"\"\"\"\"\"\"\"\"\"\"\"\"\"\"\"\"\"\"\"\"\"\"\"\"\"\"\"\"\"\"\"\"\"\"\"\"\"\"\"\"\"\"\"\"\"\"\"\"\"\"\"\"\"\"\"\"\"\"\"\"\"\"\"\"\"\"\"\"\"\"\"\"\"\"\n",
    "    # Load the data\n",
    "    img1 = ski.color.rgb2gray(image1)\n",
    "    img2 = ski.color.rgb2gray(image1)\n",
    "    # Extract masks\n",
    "    img1_m = img1 <1 # img1 mask\n",
    "    img2_m = img2 < 1 # img2 mask\n",
    "    if np.sum(img1_m) == 0 :\n",
    "        print('Erreur : cette image ne contient pas de pixels !')\n",
    "        return None    \n",
    "    # Affine registration with Mutual Information criterion (by default)\n",
    "    nbins = 32\n",
    "    sampling_prop = None\n",
    "    metric = MutualInformationMetric(nbins, sampling_prop)\n",
    "    affreg = AffineRegistration(metric=metric)\n",
    "\n",
    "    # Rigid registration  (only rotation and translation)\n",
    "    rigid = affreg.optimize(img1,img2,RigidTransform2D(),None)\n",
    "    img2_new = rigid.transform(img2) # Recalibrated image\n",
    "        \n",
    "    # Affine registration (rotation, translation, scaling and skew), if wanted\n",
    "    affine = affreg.optimize(img1,img2,AffineTransform2D(),None,starting_affine=rigid.affine)\n",
    "    img2_new = affine.transform(img2_new)\n",
    "    img2_new[img2_new == 0] = 1\n",
    "    # Output\n",
    "    return img2_new"
   ]
  },
  {
   "cell_type": "markdown",
   "metadata": {},
   "source": [
    "### 2.3 Recalage par la methode Coherent Point Drift"
   ]
  },
  {
   "cell_type": "code",
   "execution_count": 11,
   "metadata": {},
   "outputs": [],
   "source": [
    "def coherentpointdrift(img1_o,img2_o):\n",
    "    \"\"\"\"\"\"\"\"\"\"\"\"\"\"\"\"\"\"\"\"\"\"\"\"\"\"\"\"\"\"\"\"\"\"\"\"\"\"\"\"\"\"\"\"\"\"\"\"\"\"\"\"\"\"\"\"\"\"\"\"\"\"\"\"\"\"\"\"\"\"\"\"\"\"\"\"\"\"\"\"\"\"\"\"\"\"\"\"\"\"\"\"\"\"\"\"\"\"\"\"\"\"\"\"\"\"\n",
    "    CPD : Coherent Point Drift method for Point registration and recalibration \\n\n",
    "    img1_o = Original first Image or Visible Image \\n\n",
    "    img2_o = Original second Image or Fluorescent Image \\n\n",
    "    Multimodal = logical, True, if the images are from different modalities (e.g. visible and fluorescent) \\n\n",
    "    Multistart = logical, True, if you want to test several initial conditions \\n\n",
    "    Sym = logical, True if you want to test symmetry with additional initial conditions \\n\n",
    "    Param = logical, True if you want to retrieve the transformation matrix and the position used for registration \\n\n",
    "    border = size of the border to add to avoid bad cropping \\n\n",
    "    \"\"\"\"\"\"\"\"\"\"\"\"\"\"\"\"\"\"\"\"\"\"\"\"\"\"\"\"\"\"\"\"\"\"\"\"\"\"\"\"\"\"\"\"\"\"\"\"\"\"\"\"\"\"\"\"\"\"\"\"\"\"\"\"\"\"\"\"\"\"\"\"\"\"\"\"\"\"\"\"\"\"\"\"\"\"\"\"\"\"\"\"\"\"\"\"\"\"\"\"\"\"\"\"\"\n",
    "   # Load the data\n",
    "    img1 = np.copy(img1_o)\n",
    "    img2 = np.copy(img2_o)\n",
    "\n",
    "    # Extract masks\n",
    "    img1_m = ski.color.rgb2gray(img1) < 1 # img1 mask\n",
    "    img2_m = ski.color.rgb2gray(img2) <1 # img2 mask\n",
    "\n",
    "    # Extract contours with Canny filter\n",
    "    img1_c = ski.feature.canny(img1_m) # Contour from first image\n",
    "    img1_p = np.transpose(np.where(img1_c))  # Location of the contour points\n",
    "    img2_c = ski.feature.canny(img2_m) # Contour from second image\n",
    "    img2_p = np.transpose(np.where(img2_c))  # Location of the contour points\n",
    "    \n",
    "    # Callback function\n",
    "    def trace(iteration, error,X,Y): # Function to see the progress of the registration\n",
    "        print('Iteration: {:d}\\nError: {:06.4f}'.format(iteration, error))\n",
    "    callback = partial(trace) # Follow the progress of the rigid registration function\n",
    "   \n",
    "    # Background value\n",
    "    background =[255,255,255]\n",
    "\n",
    "   # If you don't use Multistart\n",
    "    #reg =RigidRegistration(**{ 'X': img1_p,'Y':img2_p,'max_iterations':200, 'tolerance':0.0001} )\n",
    "    reg = RigidRegistration(**{'X': X, 'Y': Y})\n",
    "    reg.register(callback) # Rigid registration\n",
    "    \n",
    "    # Recalibration of every coordinates\n",
    "    T = np.float32(np.c_[reg.R,[reg.t[1],reg.t[0]]]*reg.s) # Transformation matrix\n",
    "    img2_new = cv2.warpAffine(img2,T,dsize=(img1.shape[1],img1.shape[0]),borderValue=background)\n",
    "\n",
    "    # Output \n",
    "    return img2_new"
   ]
  },
  {
   "cell_type": "markdown",
   "metadata": {},
   "source": [
    "# III. Application : Recalage et Calcul des erreurs"
   ]
  },
  {
   "cell_type": "markdown",
   "metadata": {},
   "source": [
    "## 2. Avec les 2 methodes : ORB, MI"
   ]
  },
  {
   "cell_type": "markdown",
   "metadata": {},
   "source": [
    "## La méthode ORB"
   ]
  },
  {
   "cell_type": "code",
   "execution_count": 7,
   "metadata": {},
   "outputs": [
    {
     "name": "stdout",
     "output_type": "stream",
     "text": [
      "RMSE moyenne pour ORB :  117.88192846670168\n",
      "SSIM moyenne pour ORB :  0.7688497737332084\n",
      "Temps moyenne dexecution pour ORB :  2.818543945040022\n"
     ]
    }
   ],
   "source": [
    "n=35\n",
    "mseorb=[]\n",
    "ssimorb=[]\n",
    "tempsorb=[]\n",
    "\n",
    "\n",
    "for i in range(1,n+1):\n",
    "    os.chdir (r'C:\\Users\\Adama\\Desktop\\Images_Plantes\\feuille ({})'.format(i))\n",
    "    image1=cv2.imread('Image (1).jpg') #image de reference\n",
    "    image2=cv2.imread('Image (2).jpg') #image traitée\n",
    "   \n",
    "    #Appel des fonctions de recalage : ORB, MI\n",
    "    t0 = time.time()\n",
    "    imagerecaleorb,h=recalageORB(image2, image1)\n",
    "    t1 = time.time()\n",
    "    \n",
    "    # CALCUL DES ERREURS\n",
    "    \n",
    "    #MSE et SSIM\n",
    "    mseorbi,simorbi =comparer_images(imagerecaleorb, image2)\n",
    "    \n",
    "    mseorb.append(mseorbi)\n",
    "    ssimorb.append(simorbi)\n",
    "    \n",
    "    \n",
    "    # Calcul du TEMPS d'execution\n",
    "    tempsorb.append(t1-t0)\n",
    "        \n",
    "    #Enregistrement des images recalées convertie\n",
    "    cv.imwrite(\"imagerecaleORB{}.jpg\".format(i), imagerecaleorb)\n",
    "    \n",
    "#Affichage ORB\n",
    "msemoyorb=mean(mseorb)\n",
    "ssimmoyorb=mean(ssimorb)\n",
    "tempsmoyorb=mean(tempsorb)\n",
    "\n",
    "print('RMSE moyenne pour ORB : ', math.sqrt(msemoyorb))\n",
    "print('SSIM moyenne pour ORB : ' ,ssimmoyorb)\n",
    "print('Temps moyenne dexecution pour ORB : ' ,tempsmoyorb)\n"
   ]
  },
  {
   "cell_type": "markdown",
   "metadata": {},
   "source": [
    "# La méthode MI"
   ]
  },
  {
   "cell_type": "code",
   "execution_count": null,
   "metadata": {},
   "outputs": [],
   "source": [
    "n=35\n",
    "tempsmi=[]\n",
    "\n",
    "for i in range(1,n+1):\n",
    "    os.chdir (r'C:\\Users\\Adama\\Desktop\\Images_Plantes\\feuille ({})'.format(i))\n",
    "    image1=cv2.imread('Image (1).jpg') #image de reference\n",
    "    image2=cv2.imread('Image (2).jpg') #image traitée\n",
    "   \n",
    "    #Appel des fonctions de recalage : ORB, MI\n",
    "    t1 = time.time()\n",
    "    imagerecalemi=MutualInfo(image2,image1)\n",
    "    t2= time.time()\n",
    "\n",
    "    # Calcul du TEMPS d'execution\n",
    "    tempsmi.append(t2-t1)\n",
    "        \n",
    "    #Enregistrement des images recalées convertie\n",
    "    imagerecalemi=cv2.normalize(imagerecalemi, None, alpha = 0, beta = 255, norm_type = cv2.NORM_MINMAX, dtype = cv2.CV_32F)\n",
    "    cv.imwrite(\"imagerecaleMI{}.jpg\".format(i), imagerecalemi)\n",
    "    "
   ]
  },
  {
   "cell_type": "code",
   "execution_count": null,
   "metadata": {},
   "outputs": [],
   "source": [
    "n=35\n",
    "msemi=[]\n",
    "ssimmi=[]\n",
    "\n",
    "for i in range(1,n+1):\n",
    "    os.chdir (r'C:\\Users\\Adama\\Desktop\\Images_Plantes\\feuille ({})'.format(i))\n",
    "    imagerecalemi=cv2.imread(\"imagerecaleMI{}.jpg\".format(i),0) #image de reference\n",
    "    image2=cv2.imread('Image (2).jpg',0) #image traitée\n",
    "    #MSE et SSIM \n",
    "    msemii,simmii=comparer_images(imagerecalemi, image2)\n",
    "    msemi.append(msemii)\n",
    "    ssimmi.append(simmii)\n",
    "\n",
    "#Affichage MI\n",
    "msemoymi=mean(msemi)\n",
    "ssimmoymi=mean(ssimmi)\n",
    "tempsmoymi=mean(tempsmi)\n"
   ]
  },
  {
   "cell_type": "code",
   "execution_count": 88,
   "metadata": {
    "scrolled": true
   },
   "outputs": [
    {
     "name": "stdout",
     "output_type": "stream",
     "text": [
      "RMSE moyenne pour MI :  51.017722778461994\n",
      "SSIM moyenne pour MI :  0.9981027855373399\n",
      "Temps moyenne dexecution pour MI :  1736.3432385444642\n"
     ]
    }
   ],
   "source": [
    "print('RMSE moyenne pour MI : ' ,math.sqrt(msemoymi))\n",
    "print('SSIM moyenne pour MI : ' ,ssimmoymi)\n",
    "print('Temps moyenne dexecution pour MI : ', tempsmoymi)"
   ]
  },
  {
   "cell_type": "code",
   "execution_count": null,
   "metadata": {},
   "outputs": [],
   "source": []
  }
 ],
 "metadata": {
  "kernelspec": {
   "display_name": "Python 3",
   "language": "python",
   "name": "python3"
  },
  "language_info": {
   "codemirror_mode": {
    "name": "ipython",
    "version": 3
   },
   "file_extension": ".py",
   "mimetype": "text/x-python",
   "name": "python",
   "nbconvert_exporter": "python",
   "pygments_lexer": "ipython3",
   "version": "3.8.3"
  }
 },
 "nbformat": 4,
 "nbformat_minor": 4
}
